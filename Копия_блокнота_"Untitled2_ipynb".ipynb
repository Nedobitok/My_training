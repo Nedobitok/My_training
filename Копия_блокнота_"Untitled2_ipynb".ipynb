{
  "nbformat": 4,
  "nbformat_minor": 0,
  "metadata": {
    "colab": {
      "provenance": [],
      "authorship_tag": "ABX9TyMfifcdQ5v0/mJFhMSvxHey",
      "include_colab_link": true
    },
    "kernelspec": {
      "name": "python3",
      "display_name": "Python 3"
    },
    "language_info": {
      "name": "python"
    }
  },
  "cells": [
    {
      "cell_type": "markdown",
      "metadata": {
        "id": "view-in-github",
        "colab_type": "text"
      },
      "source": [
        "<a href=\"https://colab.research.google.com/github/Nedobitok/My_training/blob/main/%D0%9A%D0%BE%D0%BF%D0%B8%D1%8F_%D0%B1%D0%BB%D0%BE%D0%BA%D0%BD%D0%BE%D1%82%D0%B0_%22Untitled2_ipynb%22.ipynb\" target=\"_parent\"><img src=\"https://colab.research.google.com/assets/colab-badge.svg\" alt=\"Open In Colab\"/></a>"
      ]
    },
    {
      "cell_type": "code",
      "execution_count": null,
      "metadata": {
        "colab": {
          "base_uri": "https://localhost:8080/"
        },
        "id": "E_AVb3yEda-d",
        "outputId": "a6854765-4f9b-4bed-b53b-a3192dbbc4f4"
      },
      "outputs": [
        {
          "output_type": "stream",
          "name": "stdout",
          "text": [
            "h\n",
            "s\n",
            "6\n",
            "riends\n",
            "sdneirf 02 ih\n",
            "i2 red\n"
          ]
        }
      ],
      "source": [
        "example = 'hi 20 friends'\n",
        "print(example[0])\n",
        "print(example[-1])\n",
        "print(len(example) // 2)\n",
        "print(example[7:])\n",
        "print(example[::-1])\n",
        "print(example[1::2])"
      ]
    }
  ]
}